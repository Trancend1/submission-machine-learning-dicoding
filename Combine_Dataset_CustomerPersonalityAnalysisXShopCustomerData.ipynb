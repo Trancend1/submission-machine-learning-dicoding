{
 "cells": [
  {
   "cell_type": "markdown",
   "id": "03b53cc6-c711-45cc-bb88-6b7212ed56e9",
   "metadata": {},
   "source": [
    "####  Baca Dataset"
   ]
  },
  {
   "cell_type": "code",
   "execution_count": 16,
   "id": "1f7bac89-19da-4ef5-849b-07d06d8e4a71",
   "metadata": {},
   "outputs": [],
   "source": [
    "\n",
    "import pandas as pd\n",
    "\n",
    "# Baca kedua dataset\n",
    "df1 = pd.read_csv(r'F:\\subm-ml\\Customer_Personality_Analysis.csv', sep='\\t')\n",
    "df2 = pd.read_csv(r'F:\\subm-ml\\Shop_Customer_Data.csv', sep='\\t')\n"
   ]
  },
  {
   "cell_type": "markdown",
   "id": "b9321c91-e614-4b3c-bfe2-940cb9b27c90",
   "metadata": {},
   "source": [
    "#### Langkah Penyesuaian Dataset"
   ]
  },
  {
   "cell_type": "code",
   "execution_count": 11,
   "id": "ad39ddac-5d4b-48d3-b7b1-d9b55c89948b",
   "metadata": {},
   "outputs": [
    {
     "name": "stdout",
     "output_type": "stream",
     "text": [
      "Index(['ID\\tYear_Birth\\tEducation\\tMarital_Status\\tIncome\\tKidhome\\tTeenhome\\tDt_Customer\\tRecency\\tMntWines\\tMntFruits\\tMntMeatProducts\\tMntFishProducts\\tMntSweetProducts\\tMntGoldProds\\tNumDealsPurchases\\tNumWebPurchases\\tNumCatalogPurchases\\tNumStorePurchases\\tNumWebVisitsMonth\\tAcceptedCmp3\\tAcceptedCmp4\\tAcceptedCmp5\\tAcceptedCmp1\\tAcceptedCmp2\\tComplain\\tZ_CostContact\\tZ_Revenue\\tResponse'], dtype='object')\n"
     ]
    }
   ],
   "source": [
    "print(df1.columns)"
   ]
  },
  {
   "cell_type": "code",
   "execution_count": 17,
   "id": "c682e0ca-9162-4821-87db-a573cb72cd45",
   "metadata": {},
   "outputs": [
    {
     "name": "stdout",
     "output_type": "stream",
     "text": [
      "Index(['ID', 'Year_Birth', 'Education', 'Marital_Status', 'Income', 'Kidhome',\n",
      "       'Teenhome', 'Dt_Customer', 'Recency', 'MntWines', 'MntFruits',\n",
      "       'MntMeatProducts', 'MntFishProducts', 'MntSweetProducts',\n",
      "       'MntGoldProds', 'NumDealsPurchases', 'NumWebPurchases',\n",
      "       'NumCatalogPurchases', 'NumStorePurchases', 'NumWebVisitsMonth',\n",
      "       'AcceptedCmp3', 'AcceptedCmp4', 'AcceptedCmp5', 'AcceptedCmp1',\n",
      "       'AcceptedCmp2', 'Complain', 'Z_CostContact', 'Z_Revenue', 'Response'],\n",
      "      dtype='object')\n"
     ]
    }
   ],
   "source": [
    "print(df1.columns)"
   ]
  },
  {
   "cell_type": "code",
   "execution_count": 20,
   "id": "fdc6e48f-c9a0-4f8e-900f-7887eb3becf2",
   "metadata": {},
   "outputs": [
    {
     "name": "stdout",
     "output_type": "stream",
     "text": [
      "Index(['CustomerID,Gender,Age,Annual Income ($),Spending Score (1-100),Profession,Work Experience,Family Size'], dtype='object')\n"
     ]
    }
   ],
   "source": [
    "print(df2.columns)"
   ]
  },
  {
   "cell_type": "code",
   "execution_count": 21,
   "id": "166e5fda-e57f-402b-b762-461a8a2aa526",
   "metadata": {},
   "outputs": [
    {
     "name": "stdout",
     "output_type": "stream",
     "text": [
      "Index(['CustomerID', 'Gender', 'Age', 'Annual Income ($)',\n",
      "       'Spending Score (1-100)', 'Profession', 'Work Experience',\n",
      "       'Family Size'],\n",
      "      dtype='object')\n"
     ]
    }
   ],
   "source": [
    "# Baca dataset kedua dengan pemisah (delimiter) koma\n",
    "df2 = pd.read_csv('Shop_Customer_Data.csv', delimiter=',')\n",
    "print(df2.columns)"
   ]
  },
  {
   "cell_type": "code",
   "execution_count": 22,
   "id": "460b1f86-d039-4032-aabd-91ff80e02a0b",
   "metadata": {},
   "outputs": [],
   "source": [
    "# Ubah nama kolom untuk konsistensi\n",
    "df2.columns = [\n",
    "    'Customer ID', 'Gender', 'Age', 'Annual Income', 'Spending Score',\n",
    "    'Profession', 'Work Experience', 'Family Size'\n",
    "]"
   ]
  },
  {
   "cell_type": "code",
   "execution_count": 23,
   "id": "ad3d96fe-639f-43d9-b2ad-1eb1c6923bc7",
   "metadata": {},
   "outputs": [],
   "source": [
    "import datetime\n",
    "\n",
    "# Tambahkan kolom Age dengan konversi Year_Birth\n",
    "df1['Age'] = current_year - df1['Year_Birth']\n",
    "\n",
    "# Gabungkan kolom Kidhome dan Teenhome menjadi Family Size\n",
    "df1['Family Size'] = df1['Kidhome'] + df1['Teenhome']\n",
    "\n",
    "# Pilih hanya kolom yang relevan\n",
    "df1 = df1[['ID', 'Age', 'Income', 'Family Size', 'Education', 'Marital_Status']]\n",
    "\n",
    "# Ubah nama kolom agar sesuai dengan format Dataset 2\n",
    "df1.columns = ['Customer ID', 'Age', 'Annual Income', 'Family Size', 'Education', 'Marital Status']\n",
    "\n"
   ]
  },
  {
   "cell_type": "markdown",
   "id": "be1330ce-8c80-45b3-84a1-b60b915b6608",
   "metadata": {},
   "source": [
    "#### Gabungkan Kedua Dataset"
   ]
  },
  {
   "cell_type": "code",
   "execution_count": 24,
   "id": "3982d12c-99dd-4725-9ead-4418565d9b3e",
   "metadata": {},
   "outputs": [],
   "source": [
    "# Gabungkan dataset secara vertikal\n",
    "combined_df = pd.concat([df1, df2], ignore_index=True)"
   ]
  },
  {
   "cell_type": "markdown",
   "id": "10af8482-4641-44ea-9508-fa270a851962",
   "metadata": {},
   "source": [
    "#### Tangani duplikasi"
   ]
  },
  {
   "cell_type": "code",
   "execution_count": 25,
   "id": "8d6e9a1d-4fb0-4d73-8325-cab9491324d3",
   "metadata": {},
   "outputs": [],
   "source": [
    "# Hapus duplikasi berdasarkan Customer ID\n",
    "combined_df = combined_df.drop_duplicates(subset=['Customer ID'])"
   ]
  },
  {
   "cell_type": "markdown",
   "id": "c9c9988f-67f9-4338-b95c-f501ee347bc8",
   "metadata": {},
   "source": [
    "#### Simpan Dataset Gabungan"
   ]
  },
  {
   "cell_type": "code",
   "execution_count": 26,
   "id": "52fb1e85-b7ad-4f37-baa2-18d0c4577c17",
   "metadata": {},
   "outputs": [],
   "source": [
    "# Simpan ke file CSV\n",
    "combined_df.to_csv('Combined_Dataset.csv', index=False)"
   ]
  },
  {
   "cell_type": "code",
   "execution_count": 27,
   "id": "b26df1f8-f6c6-4ea3-a559-bfd89614de2a",
   "metadata": {},
   "outputs": [
    {
     "data": {
      "text/plain": [
       "Customer ID           0\n",
       "Age                   0\n",
       "Annual Income        24\n",
       "Family Size           0\n",
       "Education          1606\n",
       "Marital Status     1606\n",
       "Gender             2240\n",
       "Spending Score     2240\n",
       "Profession         2270\n",
       "Work Experience    2240\n",
       "dtype: int64"
      ]
     },
     "execution_count": 27,
     "metadata": {},
     "output_type": "execute_result"
    }
   ],
   "source": [
    "combined_df.isnull().sum()"
   ]
  },
  {
   "cell_type": "markdown",
   "id": "2a8d7da2-464f-41cf-9184-0f0bce44b334",
   "metadata": {},
   "source": [
    "**Insight**\n",
    "- Masalah missing value akan diselesaikan nanti diproses eksplorasi data"
   ]
  },
  {
   "cell_type": "code",
   "execution_count": null,
   "id": "57413535-a1ad-4044-a5d0-1a6fe6440784",
   "metadata": {},
   "outputs": [],
   "source": []
  }
 ],
 "metadata": {
  "kernelspec": {
   "display_name": "Python 3 (ipykernel)",
   "language": "python",
   "name": "python3"
  },
  "language_info": {
   "codemirror_mode": {
    "name": "ipython",
    "version": 3
   },
   "file_extension": ".py",
   "mimetype": "text/x-python",
   "name": "python",
   "nbconvert_exporter": "python",
   "pygments_lexer": "ipython3",
   "version": "3.12.6"
  }
 },
 "nbformat": 4,
 "nbformat_minor": 5
}
